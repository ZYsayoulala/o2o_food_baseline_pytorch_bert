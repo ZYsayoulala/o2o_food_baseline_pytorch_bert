{
 "cells": [
  {
   "cell_type": "code",
   "execution_count": 1,
   "metadata": {
    "ExecuteTime": {
     "end_time": "2020-05-22T15:38:53.075643Z",
     "start_time": "2020-05-22T15:38:50.521482Z"
    }
   },
   "outputs": [
    {
     "name": "stderr",
     "output_type": "stream",
     "text": [
      "I0522 23:38:53.025776 16680 file_utils.py:39] PyTorch version 1.2.0 available.\n",
      "I0522 23:38:53.066667 16680 modeling_xlnet.py:194] Better speed can be achieved with apex installed from https://www.github.com/nvidia/apex .\n"
     ]
    }
   ],
   "source": [
    "import json\n",
    "import collections\n",
    "import random\n",
    "import pandas as pd\n",
    "import numpy as np\n",
    "import os\n",
    "import copy\n",
    "import time\n",
    "from sklearn.metrics import f1_score\n",
    "from tqdm import tqdm,tqdm_notebook\n",
    "import warnings\n",
    "warnings.filterwarnings(\"ignore\")\n",
    "\n",
    "import torch\n",
    "from  transformers import  *\n",
    "import torch.nn as nn\n",
    "import torch.nn.functional as F"
   ]
  },
  {
   "cell_type": "markdown",
   "metadata": {},
   "source": [
    "# load data"
   ]
  },
  {
   "cell_type": "code",
   "execution_count": 2,
   "metadata": {
    "ExecuteTime": {
     "end_time": "2020-05-22T15:38:53.125510Z",
     "start_time": "2020-05-22T15:38:53.077638Z"
    }
   },
   "outputs": [
    {
     "name": "stdout",
     "output_type": "stream",
     "text": [
      "Index(['label', 'comment'], dtype='object')\n",
      "(10000, 2)\n",
      "(2000, 3)\n",
      "label      0\n",
      "comment    0\n",
      "dtype: int64\n",
      "0    8489\n",
      "1    1511\n",
      "Name: label, dtype: int64\n"
     ]
    }
   ],
   "source": [
    "train = pd.read_csv(\"data/train.csv\",sep='\\t')\n",
    "test = pd.read_csv(\"data/test_new.csv\",sep=',')\n",
    "sample = pd.read_csv(\"data/sample.csv\",sep=',')\n",
    "test['label']=0\n",
    "print(train.columns)\n",
    "print(train.shape)\n",
    "print(test.shape)\n",
    "print(train.isnull().sum())\n",
    "print(train.label.value_counts())"
   ]
  },
  {
   "cell_type": "markdown",
   "metadata": {},
   "source": [
    "# data detact"
   ]
  },
  {
   "cell_type": "code",
   "execution_count": 3,
   "metadata": {
    "ExecuteTime": {
     "end_time": "2020-05-22T15:38:53.646118Z",
     "start_time": "2020-05-22T15:38:53.126508Z"
    },
    "pycharm": {
     "name": "#%%\n"
    }
   },
   "outputs": [
    {
     "data": {
      "image/png": "[encoded data removed]",
      "text/plain": [
       "<Figure size 720x432 with 2 Axes>"
      ]
     },
     "metadata": {
      "needs_background": "light"
     },
     "output_type": "display_data"
    }
   ],
   "source": [
    "import matplotlib.pyplot as plt\n",
    "import seaborn as sns\n",
    "%matplotlib inline\n",
    "#content length\n",
    "train_data_content=train['comment'].str.len()\n",
    "test_data_content=test['comment'].str.len()\n",
    "fig,(ax1,ax2)=plt.subplots(1,2,figsize=(10,6))\n",
    "sns.distplot(train_data_content,ax=ax1,color='blue')\n",
    "sns.distplot(test_data_content,ax=ax2,color='green')\n",
    "ax2.set_title('Distribution for comment in test data')\n",
    "ax1.set_title('Distribution for comment in Training data')\n",
    "plt.show()"
   ]
  },
  {
   "cell_type": "markdown",
   "metadata": {},
   "source": [
    "# config"
   ]
  },
  {
   "cell_type": "code",
   "execution_count": 4,
   "metadata": {
    "ExecuteTime": {
     "end_time": "2020-05-22T15:38:53.655094Z",
     "start_time": "2020-05-22T15:38:53.648113Z"
    },
    "pycharm": {
     "name": "#%%\n"
    }
   },
   "outputs": [],
   "source": [
    "MAX_LEN = 150\n",
    "SEP_TOKEN_ID = 102\n",
    "DEVICE = 'cuda'\n",
    "Target_nums=['label']\n",
    "\n",
    "SEED=2019\n",
    "np.random.seed(SEED)\n",
    "torch.manual_seed(SEED)\n",
    "torch.cuda.manual_seed(SEED)\n",
    "torch.backends.cudnn.deterministic = True\n",
    "\n",
    "\n",
    "BERT_MODEL_PATH='E:/code/pre_model/pytorch_bert/chinese_roberta_wwm_ext_pytorch/'"
   ]
  },
  {
   "cell_type": "code",
   "execution_count": 5,
   "metadata": {
    "ExecuteTime": {
     "end_time": "2020-05-22T15:38:53.672049Z",
     "start_time": "2020-05-22T15:38:53.658086Z"
    },
    "pycharm": {
     "name": "#%%\n"
    }
   },
   "outputs": [],
   "source": [
    "#create DataSet\n",
    "class EmotionDataSet(torch.utils.data.Dataset):\n",
    "    def __init__(self, df):\n",
    "        self.df = df\n",
    "        self.tokenizer = BertTokenizer.from_pretrained(BERT_MODEL_PATH, cache_dir=None)\n",
    "    \n",
    "    def __len__(self):\n",
    "        return len(self.df)\n",
    "    def __getitem__(self, index):\n",
    "        row = self.df.iloc[index]\n",
    "        token_ids, seg_ids = self.get_token_ids(row)\n",
    "        labels = self.get_label(row)\n",
    "        return token_ids,seg_ids,labels\n",
    "        \n",
    "    def select_tokens(self, tokens, max_num):\n",
    "        if len(tokens) <= max_num:\n",
    "            return tokens\n",
    "        else:\n",
    "            return tokens[:max_num]\n",
    "        \n",
    "    def get_seg_ids(self, ids):\n",
    "        seg_ids = torch.zeros_like(ids)\n",
    "        seg_idx = 0\n",
    "        for i, e in enumerate(ids):\n",
    "            seg_ids[i] = seg_idx\n",
    "            if e == SEP_TOKEN_ID:\n",
    "                seg_idx += 1\n",
    "        max_idx = torch.nonzero(seg_ids == seg_idx)\n",
    "        seg_ids[max_idx] = 0\n",
    "        return seg_ids\n",
    "\n",
    "    def get_label(self, row):\n",
    "        return torch.tensor(row[Target_nums].values.astype(np.float32))\n",
    "    \n",
    "    def get_token_ids(self,row):\n",
    "        tokens= ['[CLS]'] + self.select_tokens(self.tokenizer.tokenize(row.comment),MAX_LEN-2)+['[SEP]']\n",
    "        token_ids = self.tokenizer.convert_tokens_to_ids(tokens)\n",
    "    \n",
    "        #padding\n",
    "        if len(token_ids) < MAX_LEN:\n",
    "            token_ids += [0] * (MAX_LEN- len(token_ids))\n",
    "        #totensor\n",
    "        ids = torch.tensor(token_ids)[:MAX_LEN]\n",
    "        #segid\n",
    "        seg_ids = self.get_seg_ids(ids)\n",
    "        \n",
    "        return ids,seg_ids\n",
    "\n",
    "    def collate_fn(self, batch):\n",
    "        token_ids = torch.stack([x[0] for x in batch])\n",
    "        seg_ids = torch.stack([x[1] for x in batch])\n",
    "        labels = torch.stack([x[2] for x in batch])\n",
    "        return token_ids, seg_ids, labels.squeeze()\n",
    "    \n",
    "\n",
    "#DataLoader\n",
    "def get_loader(df,batch_size=8,is_train=True):\n",
    "    ds_df = EmotionDataSet(df)\n",
    "    loader = torch.utils.data.DataLoader(ds_df, batch_size=batch_size, shuffle=is_train, num_workers=0, collate_fn=ds_df.collate_fn, drop_last=is_train)\n",
    "    loader.num = len(ds_df)\n",
    "    return loader\n",
    "\n",
    "def test_train_loader(train):\n",
    "    loader = get_loader(train,2)\n",
    "    for token_ids, seg_ids,labels in loader:\n",
    "        print(token_ids)\n",
    "        print(seg_ids)\n",
    "        print(labels)\n",
    "        break\n",
    "def test_test_loader(test):\n",
    "    if Target_nums not in list(test.columns):\n",
    "        test[Target_nums[0]]=0\n",
    "    loader = get_loader(test,2)\n",
    "    for token_ids, seg_ids,labels in loader:\n",
    "        print(token_ids)\n",
    "        print(seg_ids)\n",
    "        break"
   ]
  },
  {
   "cell_type": "code",
   "execution_count": 6,
   "metadata": {
    "ExecuteTime": {
     "end_time": "2020-05-22T15:38:53.716956Z",
     "start_time": "2020-05-22T15:38:53.673045Z"
    },
    "pycharm": {
     "name": "#%%\n"
    }
   },
   "outputs": [
    {
     "name": "stderr",
     "output_type": "stream",
     "text": [
      "I0522 23:38:53.674043 16680 tokenization_utils.py:306] Model name 'E:/code/pre_model/pytorch_bert/chinese_roberta_wwm_ext_pytorch/' not found in model shortcut name list (bert-base-uncased, bert-large-uncased, bert-base-cased, bert-large-cased, bert-base-multilingual-uncased, bert-base-multilingual-cased, bert-base-chinese, bert-base-german-cased, bert-large-uncased-whole-word-masking, bert-large-cased-whole-word-masking, bert-large-uncased-whole-word-masking-finetuned-squad, bert-large-cased-whole-word-masking-finetuned-squad, bert-base-cased-finetuned-mrpc, bert-base-german-dbmdz-cased, bert-base-german-dbmdz-uncased). Assuming 'E:/code/pre_model/pytorch_bert/chinese_roberta_wwm_ext_pytorch/' is a path or url to a directory containing tokenizer files.\n",
      "I0522 23:38:53.675040 16680 tokenization_utils.py:335] Didn't find file E:/code/pre_model/pytorch_bert/chinese_roberta_wwm_ext_pytorch/added_tokens.json. We won't load it.\n",
      "I0522 23:38:53.676038 16680 tokenization_utils.py:335] Didn't find file E:/code/pre_model/pytorch_bert/chinese_roberta_wwm_ext_pytorch/special_tokens_map.json. We won't load it.\n",
      "I0522 23:38:53.677035 16680 tokenization_utils.py:335] Didn't find file E:/code/pre_model/pytorch_bert/chinese_roberta_wwm_ext_pytorch/tokenizer_config.json. We won't load it.\n",
      "I0522 23:38:53.679030 16680 tokenization_utils.py:371] loading file E:/code/pre_model/pytorch_bert/chinese_roberta_wwm_ext_pytorch/vocab.txt\n",
      "I0522 23:38:53.680027 16680 tokenization_utils.py:371] loading file None\n",
      "I0522 23:38:53.681025 16680 tokenization_utils.py:371] loading file None\n",
      "I0522 23:38:53.682022 16680 tokenization_utils.py:371] loading file None\n"
     ]
    },
    {
     "name": "stdout",
     "output_type": "stream",
     "text": [
      "tensor([[ 101, 1343,  749, 1962, 1914, 3613,  749,  511,  511,  511, 2600,  860,\n",
      "         3341, 6432, 6820, 3221, 2523, 1962, 4638, 8024, 8024,  102,    0,    0,\n",
      "            0,    0,    0,    0,    0,    0,    0,    0,    0,    0,    0,    0,\n",
      "            0,    0,    0,    0,    0,    0,    0,    0,    0,    0,    0,    0,\n",
      "            0,    0,    0,    0,    0,    0,    0,    0,    0,    0,    0,    0,\n",
      "            0,    0,    0,    0,    0,    0,    0,    0,    0,    0,    0,    0,\n",
      "            0,    0,    0,    0,    0,    0,    0,    0,    0,    0,    0,    0,\n",
      "            0,    0,    0,    0,    0,    0,    0,    0,    0,    0,    0,    0,\n",
      "            0,    0,    0,    0,    0,    0,    0,    0,    0,    0,    0,    0,\n",
      "            0,    0,    0,    0,    0,    0,    0,    0,    0,    0,    0,    0,\n",
      "            0,    0,    0,    0,    0,    0,    0,    0,    0,    0,    0,    0,\n",
      "            0,    0,    0,    0,    0,    0,    0,    0,    0,    0,    0,    0,\n",
      "            0,    0,    0,    0,    0,    0],\n",
      "        [ 101, 7226, 6940, 5520, 1400, 6929, 3340, 6662, 3178, 6804, 3221, 6498,\n",
      "         2145, 3341, 2421, 2094,  679, 1920, 1724, 2476, 3430, 6820, 1962, 1343,\n",
      "         2533, 3683, 6772, 3193,  677, 5831, 6820, 3221, 2923, 2571, 4638, 1920,\n",
      "         3519, 3221,  697,  702, 2399, 6768,  782, 5632, 2346, 2458, 4638, 2421,\n",
      "         1416, 1146, 7030, 1071, 2141, 2923, 6639, 4638, 7883, 5420,  966, 2533,\n",
      "         2972, 5773, 2418, 6421, 3221, 4215, 6814, 4197, 1400, 4924, 2544, 4171,\n",
      "         4171, 4294, 1166, 2075, 6382, 4696, 3683, 1912, 7481,  683, 7305, 1297,\n",
      "         7883, 5420, 4638, 6963, 1962, 1391, 4685, 3683,  722,  678, 3683, 5855,\n",
      "         4924, 3300, 6849, 5682, 1909, 2014, 1929, 4638, 1377,  809, 5440, 5991,\n",
      "         1217,  763, 2207, 7471, 3492,  672, 5489, 6996, 7481, 3300, 2521, 1217,\n",
      "         2487, 1922, 2397, 2697, 6230, 1008, 2397, 2863, 7481, 3766, 3300, 3739,\n",
      "         3723, 3146,  860, 2141, 2669, 6631,  966,  749,  102,    0,    0,    0,\n",
      "            0,    0,    0,    0,    0,    0]])\n",
      "tensor([[0, 0, 0, 0, 0, 0, 0, 0, 0, 0, 0, 0, 0, 0, 0, 0, 0, 0, 0, 0, 0, 0, 0, 0,\n",
      "         0, 0, 0, 0, 0, 0, 0, 0, 0, 0, 0, 0, 0, 0, 0, 0, 0, 0, 0, 0, 0, 0, 0, 0,\n",
      "         0, 0, 0, 0, 0, 0, 0, 0, 0, 0, 0, 0, 0, 0, 0, 0, 0, 0, 0, 0, 0, 0, 0, 0,\n",
      "         0, 0, 0, 0, 0, 0, 0, 0, 0, 0, 0, 0, 0, 0, 0, 0, 0, 0, 0, 0, 0, 0, 0, 0,\n",
      "         0, 0, 0, 0, 0, 0, 0, 0, 0, 0, 0, 0, 0, 0, 0, 0, 0, 0, 0, 0, 0, 0, 0, 0,\n",
      "         0, 0, 0, 0, 0, 0, 0, 0, 0, 0, 0, 0, 0, 0, 0, 0, 0, 0, 0, 0, 0, 0, 0, 0,\n",
      "         0, 0, 0, 0, 0, 0],\n",
      "        [0, 0, 0, 0, 0, 0, 0, 0, 0, 0, 0, 0, 0, 0, 0, 0, 0, 0, 0, 0, 0, 0, 0, 0,\n",
      "         0, 0, 0, 0, 0, 0, 0, 0, 0, 0, 0, 0, 0, 0, 0, 0, 0, 0, 0, 0, 0, 0, 0, 0,\n",
      "         0, 0, 0, 0, 0, 0, 0, 0, 0, 0, 0, 0, 0, 0, 0, 0, 0, 0, 0, 0, 0, 0, 0, 0,\n",
      "         0, 0, 0, 0, 0, 0, 0, 0, 0, 0, 0, 0, 0, 0, 0, 0, 0, 0, 0, 0, 0, 0, 0, 0,\n",
      "         0, 0, 0, 0, 0, 0, 0, 0, 0, 0, 0, 0, 0, 0, 0, 0, 0, 0, 0, 0, 0, 0, 0, 0,\n",
      "         0, 0, 0, 0, 0, 0, 0, 0, 0, 0, 0, 0, 0, 0, 0, 0, 0, 0, 0, 0, 0, 0, 0, 0,\n",
      "         0, 0, 0, 0, 0, 0]])\n",
      "tensor([0., 0.])\n"
     ]
    }
   ],
   "source": [
    "test_train_loader(train)"
   ]
  },
  {
   "cell_type": "code",
   "execution_count": 7,
   "metadata": {
    "ExecuteTime": {
     "end_time": "2020-05-22T15:38:53.761836Z",
     "start_time": "2020-05-22T15:38:53.717925Z"
    },
    "pycharm": {
     "name": "#%%\n"
    }
   },
   "outputs": [
    {
     "name": "stderr",
     "output_type": "stream",
     "text": [
      "I0522 23:38:53.719921 16680 tokenization_utils.py:306] Model name 'E:/code/pre_model/pytorch_bert/chinese_roberta_wwm_ext_pytorch/' not found in model shortcut name list (bert-base-uncased, bert-large-uncased, bert-base-cased, bert-large-cased, bert-base-multilingual-uncased, bert-base-multilingual-cased, bert-base-chinese, bert-base-german-cased, bert-large-uncased-whole-word-masking, bert-large-cased-whole-word-masking, bert-large-uncased-whole-word-masking-finetuned-squad, bert-large-cased-whole-word-masking-finetuned-squad, bert-base-cased-finetuned-mrpc, bert-base-german-dbmdz-cased, bert-base-german-dbmdz-uncased). Assuming 'E:/code/pre_model/pytorch_bert/chinese_roberta_wwm_ext_pytorch/' is a path or url to a directory containing tokenizer files.\n",
      "I0522 23:38:53.720918 16680 tokenization_utils.py:335] Didn't find file E:/code/pre_model/pytorch_bert/chinese_roberta_wwm_ext_pytorch/added_tokens.json. We won't load it.\n",
      "I0522 23:38:53.721915 16680 tokenization_utils.py:335] Didn't find file E:/code/pre_model/pytorch_bert/chinese_roberta_wwm_ext_pytorch/special_tokens_map.json. We won't load it.\n",
      "I0522 23:38:53.722913 16680 tokenization_utils.py:335] Didn't find file E:/code/pre_model/pytorch_bert/chinese_roberta_wwm_ext_pytorch/tokenizer_config.json. We won't load it.\n",
      "I0522 23:38:53.723910 16680 tokenization_utils.py:371] loading file E:/code/pre_model/pytorch_bert/chinese_roberta_wwm_ext_pytorch/vocab.txt\n",
      "I0522 23:38:53.724907 16680 tokenization_utils.py:371] loading file None\n",
      "I0522 23:38:53.725904 16680 tokenization_utils.py:371] loading file None\n",
      "I0522 23:38:53.726902 16680 tokenization_utils.py:371] loading file None\n"
     ]
    },
    {
     "name": "stdout",
     "output_type": "stream",
     "text": [
      "tensor([[ 101, 2990, 1184, 5314, 2421, 1447, 6432, 1962,  749, 8024, 1168, 4157,\n",
      "         1114, 3198, 1391, 7649, 8024, 1591,  800,  812, 2828, 5831, 6963, 1114,\n",
      "         1906, 1962, 8024, 2769,  812,  738, 1114, 3198, 1168,  749, 8024, 5831,\n",
      "          738,  677, 7970,  749, 8024, 1762, 3517,  677, 8024, 1282,  702,  782,\n",
      "         8024, 5831, 4638,  819, 7030, 2523, 6639, 8024,  738, 2523, 1962, 1391,\n",
      "         8013, 6631,  966, 8013,  809, 1400, 3300, 3322,  833,  671, 2137, 6820,\n",
      "         3341, 8013,  102,    0,    0,    0,    0,    0,    0,    0,    0,    0,\n",
      "            0,    0,    0,    0,    0,    0,    0,    0,    0,    0,    0,    0,\n",
      "            0,    0,    0,    0,    0,    0,    0,    0,    0,    0,    0,    0,\n",
      "            0,    0,    0,    0,    0,    0,    0,    0,    0,    0,    0,    0,\n",
      "            0,    0,    0,    0,    0,    0,    0,    0,    0,    0,    0,    0,\n",
      "            0,    0,    0,    0,    0,    0,    0,    0,    0,    0,    0,    0,\n",
      "            0,    0,    0,    0,    0,    0],\n",
      "        [ 101, 4692, 1168,  817, 3419,  912, 2139, 8024, 1730,  749, 6407, 6407,\n",
      "         1456, 6887, 8013, 2523, 6375, 2769, 2661, 1599, 8013, 5439, 3352, 3302,\n",
      "         1218, 2578, 2428, 2523, 1962, 8013, 2400, 3766, 3300, 1728,  711, 3221,\n",
      "         1730, 6579,  982, 2339, 1121, 3160, 8013, 4143, 7222, 4638, 3221,  702,\n",
      "         2207, 2358, 1520, 8013,  779,  812, 1914, 1914, 3118, 2898, 1158,  689,\n",
      "         1521, 8013,  102,    0,    0,    0,    0,    0,    0,    0,    0,    0,\n",
      "            0,    0,    0,    0,    0,    0,    0,    0,    0,    0,    0,    0,\n",
      "            0,    0,    0,    0,    0,    0,    0,    0,    0,    0,    0,    0,\n",
      "            0,    0,    0,    0,    0,    0,    0,    0,    0,    0,    0,    0,\n",
      "            0,    0,    0,    0,    0,    0,    0,    0,    0,    0,    0,    0,\n",
      "            0,    0,    0,    0,    0,    0,    0,    0,    0,    0,    0,    0,\n",
      "            0,    0,    0,    0,    0,    0,    0,    0,    0,    0,    0,    0,\n",
      "            0,    0,    0,    0,    0,    0]])\n",
      "tensor([[0, 0, 0, 0, 0, 0, 0, 0, 0, 0, 0, 0, 0, 0, 0, 0, 0, 0, 0, 0, 0, 0, 0, 0,\n",
      "         0, 0, 0, 0, 0, 0, 0, 0, 0, 0, 0, 0, 0, 0, 0, 0, 0, 0, 0, 0, 0, 0, 0, 0,\n",
      "         0, 0, 0, 0, 0, 0, 0, 0, 0, 0, 0, 0, 0, 0, 0, 0, 0, 0, 0, 0, 0, 0, 0, 0,\n",
      "         0, 0, 0, 0, 0, 0, 0, 0, 0, 0, 0, 0, 0, 0, 0, 0, 0, 0, 0, 0, 0, 0, 0, 0,\n",
      "         0, 0, 0, 0, 0, 0, 0, 0, 0, 0, 0, 0, 0, 0, 0, 0, 0, 0, 0, 0, 0, 0, 0, 0,\n",
      "         0, 0, 0, 0, 0, 0, 0, 0, 0, 0, 0, 0, 0, 0, 0, 0, 0, 0, 0, 0, 0, 0, 0, 0,\n",
      "         0, 0, 0, 0, 0, 0],\n",
      "        [0, 0, 0, 0, 0, 0, 0, 0, 0, 0, 0, 0, 0, 0, 0, 0, 0, 0, 0, 0, 0, 0, 0, 0,\n",
      "         0, 0, 0, 0, 0, 0, 0, 0, 0, 0, 0, 0, 0, 0, 0, 0, 0, 0, 0, 0, 0, 0, 0, 0,\n",
      "         0, 0, 0, 0, 0, 0, 0, 0, 0, 0, 0, 0, 0, 0, 0, 0, 0, 0, 0, 0, 0, 0, 0, 0,\n",
      "         0, 0, 0, 0, 0, 0, 0, 0, 0, 0, 0, 0, 0, 0, 0, 0, 0, 0, 0, 0, 0, 0, 0, 0,\n",
      "         0, 0, 0, 0, 0, 0, 0, 0, 0, 0, 0, 0, 0, 0, 0, 0, 0, 0, 0, 0, 0, 0, 0, 0,\n",
      "         0, 0, 0, 0, 0, 0, 0, 0, 0, 0, 0, 0, 0, 0, 0, 0, 0, 0, 0, 0, 0, 0, 0, 0,\n",
      "         0, 0, 0, 0, 0, 0]])\n"
     ]
    }
   ],
   "source": [
    "test_test_loader(test)"
   ]
  },
  {
   "cell_type": "markdown",
   "metadata": {},
   "source": [
    "# bulid model"
   ]
  },
  {
   "cell_type": "code",
   "execution_count": 8,
   "metadata": {
    "ExecuteTime": {
     "end_time": "2020-05-22T15:38:55.276756Z",
     "start_time": "2020-05-22T15:38:53.762806Z"
    },
    "pycharm": {
     "name": "#%%\n"
    }
   },
   "outputs": [
    {
     "name": "stderr",
     "output_type": "stream",
     "text": [
      "I0522 23:38:53.768790 16680 configuration_utils.py:148] loading configuration file E:/code/pre_model/pytorch_bert/chinese_roberta_wwm_ext_pytorch/config.json\n",
      "I0522 23:38:53.769788 16680 configuration_utils.py:168] Model config {\n",
      "  \"attention_probs_dropout_prob\": 0.1,\n",
      "  \"directionality\": \"bidi\",\n",
      "  \"finetuning_task\": null,\n",
      "  \"hidden_act\": \"gelu\",\n",
      "  \"hidden_dropout_prob\": 0.1,\n",
      "  \"hidden_size\": 768,\n",
      "  \"initializer_range\": 0.02,\n",
      "  \"intermediate_size\": 3072,\n",
      "  \"layer_norm_eps\": 1e-12,\n",
      "  \"max_position_embeddings\": 512,\n",
      "  \"num_attention_heads\": 12,\n",
      "  \"num_hidden_layers\": 12,\n",
      "  \"num_labels\": 2,\n",
      "  \"output_attentions\": false,\n",
      "  \"output_hidden_states\": false,\n",
      "  \"output_past\": true,\n",
      "  \"pooler_fc_size\": 768,\n",
      "  \"pooler_num_attention_heads\": 12,\n",
      "  \"pooler_num_fc_layers\": 3,\n",
      "  \"pooler_size_per_head\": 128,\n",
      "  \"pooler_type\": \"first_token_transform\",\n",
      "  \"pruned_heads\": {},\n",
      "  \"torchscript\": false,\n",
      "  \"type_vocab_size\": 2,\n",
      "  \"use_bfloat16\": false,\n",
      "  \"vocab_size\": 21128\n",
      "}\n",
      "\n",
      "I0522 23:38:53.771782 16680 modeling_utils.py:334] loading weights file E:/code/pre_model/pytorch_bert/chinese_roberta_wwm_ext_pytorch/pytorch_model.bin\n"
     ]
    },
    {
     "name": "stdout",
     "output_type": "stream",
     "text": [
      "# generator parameters: 102268417\n"
     ]
    }
   ],
   "source": [
    "class EmotionModel(nn.Module):\n",
    "    def __init__(self, n_classes=1):\n",
    "        super(EmotionModel, self).__init__()\n",
    "        self.model_name = 'EmotionModel'\n",
    "        self.bert_model = BertModel.from_pretrained(BERT_MODEL_PATH,cache_dir=None)\n",
    "        \n",
    "        self.fcc= nn.Sequential(nn.Linear(768, n_classes))\n",
    "        \n",
    "    \n",
    "    def forward(self,ids,seg_ids):\n",
    "        attention_mask = (ids > 0)\n",
    "        #last seq 是最后一层的输出\n",
    "        last_seq,pooled_output=self.bert_model(input_ids=ids, attention_mask=attention_mask)\n",
    "        out=self.fcc(last_seq[:,0,:]).sigmoid()\n",
    "        return out\n",
    "    \n",
    "\n",
    "def test_model():\n",
    "    x = torch.tensor([[1,2,3,4,5, 0, 0], [1,2,3,4,5, 0, 0]])\n",
    "        \n",
    "    seg_ids = torch.tensor([[1,0,0,0,0, 0, 0], [1,0,0,0,0, 0, 0]])\n",
    "    model = EmotionModel()\n",
    "    \n",
    "    y = model(x, seg_ids)\n",
    "    print(y)\n",
    "netG = EmotionModel()\n",
    "print('# generator parameters:', sum(param.numel() for param in netG.parameters()))"
   ]
  },
  {
   "cell_type": "code",
   "execution_count": 9,
   "metadata": {
    "ExecuteTime": {
     "end_time": "2020-05-22T15:38:56.857543Z",
     "start_time": "2020-05-22T15:38:55.277755Z"
    },
    "pycharm": {
     "name": "#%%\n"
    }
   },
   "outputs": [
    {
     "name": "stderr",
     "output_type": "stream",
     "text": [
      "I0522 23:38:55.278751 16680 configuration_utils.py:148] loading configuration file E:/code/pre_model/pytorch_bert/chinese_roberta_wwm_ext_pytorch/config.json\n",
      "I0522 23:38:55.280746 16680 configuration_utils.py:168] Model config {\n",
      "  \"attention_probs_dropout_prob\": 0.1,\n",
      "  \"directionality\": \"bidi\",\n",
      "  \"finetuning_task\": null,\n",
      "  \"hidden_act\": \"gelu\",\n",
      "  \"hidden_dropout_prob\": 0.1,\n",
      "  \"hidden_size\": 768,\n",
      "  \"initializer_range\": 0.02,\n",
      "  \"intermediate_size\": 3072,\n",
      "  \"layer_norm_eps\": 1e-12,\n",
      "  \"max_position_embeddings\": 512,\n",
      "  \"num_attention_heads\": 12,\n",
      "  \"num_hidden_layers\": 12,\n",
      "  \"num_labels\": 2,\n",
      "  \"output_attentions\": false,\n",
      "  \"output_hidden_states\": false,\n",
      "  \"output_past\": true,\n",
      "  \"pooler_fc_size\": 768,\n",
      "  \"pooler_num_attention_heads\": 12,\n",
      "  \"pooler_num_fc_layers\": 3,\n",
      "  \"pooler_size_per_head\": 128,\n",
      "  \"pooler_type\": \"first_token_transform\",\n",
      "  \"pruned_heads\": {},\n",
      "  \"torchscript\": false,\n",
      "  \"type_vocab_size\": 2,\n",
      "  \"use_bfloat16\": false,\n",
      "  \"vocab_size\": 21128\n",
      "}\n",
      "\n",
      "I0522 23:38:55.281743 16680 modeling_utils.py:334] loading weights file E:/code/pre_model/pytorch_bert/chinese_roberta_wwm_ext_pytorch/pytorch_model.bin\n"
     ]
    },
    {
     "name": "stdout",
     "output_type": "stream",
     "text": [
      "tensor([[0.6288],\n",
      "        [0.6288]], grad_fn=<SigmoidBackward>)\n"
     ]
    }
   ],
   "source": [
    "test_model()"
   ]
  },
  {
   "cell_type": "code",
   "execution_count": 10,
   "metadata": {
    "ExecuteTime": {
     "end_time": "2020-05-22T15:38:56.877490Z",
     "start_time": "2020-05-22T15:38:56.858541Z"
    },
    "pycharm": {
     "name": "#%%\n"
    }
   },
   "outputs": [],
   "source": [
    "logs='- epoch - {0:2d} - train_loss - {1:.4f} train_score - {2:.3f} - val_loss - {3:.4f} - val_score - {4:.3f} - best_loss - {5:.3f}'\n",
    "\n",
    "#验证\n",
    "def metric_fn(p, t):\n",
    "    p=(p>0.5)*1\n",
    "    return f1_score(t,p)\n",
    "\n",
    "\n",
    "def validation_fn(model, loader, loss_fn):\n",
    "    model.eval()\n",
    "    y_pred, y_true, tloss = [], [], []\n",
    "    for ids,seg_ids,target in loader:\n",
    "        outputs = model(ids.cuda(DEVICE),seg_ids.cuda(DEVICE))\n",
    "        loss = loss_fn(outputs.squeeze(), target.cuda(DEVICE))\n",
    "        tloss.append(loss.item())\n",
    "        y_true.append(target.detach().cpu().numpy())\n",
    "        y_pred.append(outputs.detach().cpu().numpy())\n",
    "        \n",
    "    tloss = np.array(tloss).mean()\n",
    "    y_pred = np.concatenate(y_pred)\n",
    "    y_true = np.concatenate(y_true)\n",
    "    metric = metric_fn(y_pred, y_true)\n",
    "    return tloss, metric\n",
    "\n",
    "def predict_model_test(model,loader):\n",
    "    model.eval()\n",
    "    y_pred=[]\n",
    "    for ids,seg_ids,_ in loader:\n",
    "        outputs = model(ids.cuda(DEVICE),seg_ids.cuda(DEVICE))\n",
    "        y_pred.append(outputs.detach().cpu().numpy())\n",
    "    y_pred = np.concatenate(y_pred)\n",
    "    return y_pred\n",
    "\n",
    "\n",
    "\n",
    "def train_model(model,train_loader,val_loader,early_stop_epochs=2,accumulation_steps=2,epochs=4,model_save_path='pytorch_Emotion_model.pkl'):  \n",
    "    \n",
    "    \n",
    "    no_improve_epochs=0\n",
    "    \n",
    "    ########优化器 学习率\n",
    "    param_optimizer = list(model.named_parameters())\n",
    "    no_decay = ['bias', 'LayerNorm.bias', 'LayerNorm.weight']\n",
    "    optimizer_grouped_parameters = [\n",
    "            {'params': [p for n, p in param_optimizer if not any(nd in n for nd in no_decay)], 'weight_decay': 0.8},\n",
    "            {'params': [p for n, p in param_optimizer if any(nd in n for nd in no_decay)], 'weight_decay': 0.0},\n",
    "            ]   \n",
    "    \n",
    "    optimizer = AdamW(optimizer_grouped_parameters, lr=2e-5, eps=1e-8)\n",
    "    \n",
    "    \n",
    "    train_len=len(train_loader)\n",
    "    \n",
    "    #loss function\n",
    "    loss_fn = nn.BCELoss().cuda(DEVICE)\n",
    "    best_vmetric=1.\n",
    "    \n",
    "    \n",
    "    logss=[]\n",
    "    \n",
    "    \n",
    "    for epoch in range(1,epochs+1):\n",
    "        \n",
    "        y_pred, y_true = [], []\n",
    "        start_time = time.time\n",
    "        tloss = []\n",
    "        model.train()\n",
    "        bar = tqdm_notebook(train_loader)\n",
    "        for i,(ids, seg_ids,labels) in enumerate(bar):\n",
    "            outputs = model(ids.cuda(DEVICE),seg_ids.cuda(DEVICE))\n",
    "#             print(labels)\n",
    "            loss = loss_fn(outputs.squeeze(), labels.cuda(DEVICE))\n",
    "            tloss.append(loss.item())\n",
    "            loss.backward()\n",
    "            #梯度累计\n",
    "            if (i+1) % accumulation_steps == 0 or (i+1)==train_len:\n",
    "                optimizer.step()\n",
    "                optimizer.zero_grad()\n",
    "            y_true.append(labels.detach().cpu().numpy())\n",
    "            y_pred.append(outputs.detach().cpu().numpy())\n",
    "            y_t = np.concatenate(y_pred)\n",
    "            y_p = np.concatenate(y_true)\n",
    "            metric = metric_fn(y_t,y_p)\n",
    "            bar.set_postfix(loss=np.array(tloss).mean(),score=metric)\n",
    "        \n",
    "        tloss = np.array(tloss).mean()\n",
    "        y_pred = np.concatenate(y_pred)\n",
    "        y_true = np.concatenate(y_true)\n",
    "        tmetric = metric_fn(y_pred, y_true)\n",
    "        vloss, vmetric = validation_fn(model, val_loader, loss_fn)\n",
    "        \n",
    "        #test\n",
    "        \n",
    "        p=logs.format(epoch,tloss,tmetric,vloss,vmetric,best_vmetric)\n",
    "        logss.append(p)\n",
    "        print(p)\n",
    "        \n",
    "        \n",
    "        \n",
    "        #save best model\n",
    "        if vloss<=best_vmetric:\n",
    "            torch.save(model.state_dict(),model_save_path)\n",
    "            best_vmetric=vloss\n",
    "            no_improve_epochs=0\n",
    "            print('improve save model!!!')\n",
    "        else:\n",
    "            no_improve_epochs+=1\n",
    "        ###for eary stop\n",
    "        if no_improve_epochs==early_stop_epochs:\n",
    "            print('no improve score !!! stop train !!!')\n",
    "            break\n",
    "        \n",
    "    return logss"
   ]
  },
  {
   "cell_type": "code",
   "execution_count": 11,
   "metadata": {
    "ExecuteTime": {
     "end_time": "2020-05-22T16:00:56.501118Z",
     "start_time": "2020-05-22T15:38:56.878487Z"
    },
    "pycharm": {
     "name": "#%%\n"
    }
   },
   "outputs": [
    {
     "name": "stderr",
     "output_type": "stream",
     "text": [
      "I0522 23:38:56.884471 16680 configuration_utils.py:148] loading configuration file E:/code/pre_model/pytorch_bert/chinese_roberta_wwm_ext_pytorch/config.json\n",
      "I0522 23:38:56.886467 16680 configuration_utils.py:168] Model config {\n",
      "  \"attention_probs_dropout_prob\": 0.1,\n",
      "  \"directionality\": \"bidi\",\n",
      "  \"finetuning_task\": null,\n",
      "  \"hidden_act\": \"gelu\",\n",
      "  \"hidden_dropout_prob\": 0.1,\n",
      "  \"hidden_size\": 768,\n",
      "  \"initializer_range\": 0.02,\n",
      "  \"intermediate_size\": 3072,\n",
      "  \"layer_norm_eps\": 1e-12,\n",
      "  \"max_position_embeddings\": 512,\n",
      "  \"num_attention_heads\": 12,\n",
      "  \"num_hidden_layers\": 12,\n",
      "  \"num_labels\": 2,\n",
      "  \"output_attentions\": false,\n",
      "  \"output_hidden_states\": false,\n",
      "  \"output_past\": true,\n",
      "  \"pooler_fc_size\": 768,\n",
      "  \"pooler_num_attention_heads\": 12,\n",
      "  \"pooler_num_fc_layers\": 3,\n",
      "  \"pooler_size_per_head\": 128,\n",
      "  \"pooler_type\": \"first_token_transform\",\n",
      "  \"pruned_heads\": {},\n",
      "  \"torchscript\": false,\n",
      "  \"type_vocab_size\": 2,\n",
      "  \"use_bfloat16\": false,\n",
      "  \"vocab_size\": 21128\n",
      "}\n",
      "\n",
      "I0522 23:38:56.887464 16680 modeling_utils.py:334] loading weights file E:/code/pre_model/pytorch_bert/chinese_roberta_wwm_ext_pytorch/pytorch_model.bin\n",
      "I0522 23:39:00.974544 16680 tokenization_utils.py:306] Model name 'E:/code/pre_model/pytorch_bert/chinese_roberta_wwm_ext_pytorch/' not found in model shortcut name list (bert-base-uncased, bert-large-uncased, bert-base-cased, bert-large-cased, bert-base-multilingual-uncased, bert-base-multilingual-cased, bert-base-chinese, bert-base-german-cased, bert-large-uncased-whole-word-masking, bert-large-cased-whole-word-masking, bert-large-uncased-whole-word-masking-finetuned-squad, bert-large-cased-whole-word-masking-finetuned-squad, bert-base-cased-finetuned-mrpc, bert-base-german-dbmdz-cased, bert-base-german-dbmdz-uncased). Assuming 'E:/code/pre_model/pytorch_bert/chinese_roberta_wwm_ext_pytorch/' is a path or url to a directory containing tokenizer files.\n",
      "I0522 23:39:00.976538 16680 tokenization_utils.py:335] Didn't find file E:/code/pre_model/pytorch_bert/chinese_roberta_wwm_ext_pytorch/added_tokens.json. We won't load it.\n",
      "I0522 23:39:00.976538 16680 tokenization_utils.py:335] Didn't find file E:/code/pre_model/pytorch_bert/chinese_roberta_wwm_ext_pytorch/special_tokens_map.json. We won't load it.\n",
      "I0522 23:39:00.977536 16680 tokenization_utils.py:335] Didn't find file E:/code/pre_model/pytorch_bert/chinese_roberta_wwm_ext_pytorch/tokenizer_config.json. We won't load it.\n",
      "I0522 23:39:00.978535 16680 tokenization_utils.py:371] loading file E:/code/pre_model/pytorch_bert/chinese_roberta_wwm_ext_pytorch/vocab.txt\n",
      "I0522 23:39:00.979532 16680 tokenization_utils.py:371] loading file None\n",
      "I0522 23:39:00.980529 16680 tokenization_utils.py:371] loading file None\n",
      "I0522 23:39:00.980529 16680 tokenization_utils.py:371] loading file None\n"
     ]
    },
    {
     "name": "stdout",
     "output_type": "stream",
     "text": [
      "1 ----------------------start\n",
      "(8000, 2)\n",
      "(2000, 2)\n"
     ]
    },
    {
     "name": "stderr",
     "output_type": "stream",
     "text": [
      "I0522 23:39:01.005461 16680 tokenization_utils.py:306] Model name 'E:/code/pre_model/pytorch_bert/chinese_roberta_wwm_ext_pytorch/' not found in model shortcut name list (bert-base-uncased, bert-large-uncased, bert-base-cased, bert-large-cased, bert-base-multilingual-uncased, bert-base-multilingual-cased, bert-base-chinese, bert-base-german-cased, bert-large-uncased-whole-word-masking, bert-large-cased-whole-word-masking, bert-large-uncased-whole-word-masking-finetuned-squad, bert-large-cased-whole-word-masking-finetuned-squad, bert-base-cased-finetuned-mrpc, bert-base-german-dbmdz-cased, bert-base-german-dbmdz-uncased). Assuming 'E:/code/pre_model/pytorch_bert/chinese_roberta_wwm_ext_pytorch/' is a path or url to a directory containing tokenizer files.\n",
      "I0522 23:39:01.006459 16680 tokenization_utils.py:335] Didn't find file E:/code/pre_model/pytorch_bert/chinese_roberta_wwm_ext_pytorch/added_tokens.json. We won't load it.\n",
      "I0522 23:39:01.007456 16680 tokenization_utils.py:335] Didn't find file E:/code/pre_model/pytorch_bert/chinese_roberta_wwm_ext_pytorch/special_tokens_map.json. We won't load it.\n",
      "I0522 23:39:01.007456 16680 tokenization_utils.py:335] Didn't find file E:/code/pre_model/pytorch_bert/chinese_roberta_wwm_ext_pytorch/tokenizer_config.json. We won't load it.\n",
      "I0522 23:39:01.008454 16680 tokenization_utils.py:371] loading file E:/code/pre_model/pytorch_bert/chinese_roberta_wwm_ext_pytorch/vocab.txt\n",
      "I0522 23:39:01.009451 16680 tokenization_utils.py:371] loading file None\n",
      "I0522 23:39:01.009451 16680 tokenization_utils.py:371] loading file None\n",
      "I0522 23:39:01.010448 16680 tokenization_utils.py:371] loading file None\n",
      "I0522 23:39:01.026406 16680 tokenization_utils.py:306] Model name 'E:/code/pre_model/pytorch_bert/chinese_roberta_wwm_ext_pytorch/' not found in model shortcut name list (bert-base-uncased, bert-large-uncased, bert-base-cased, bert-large-cased, bert-base-multilingual-uncased, bert-base-multilingual-cased, bert-base-chinese, bert-base-german-cased, bert-large-uncased-whole-word-masking, bert-large-cased-whole-word-masking, bert-large-uncased-whole-word-masking-finetuned-squad, bert-large-cased-whole-word-masking-finetuned-squad, bert-base-cased-finetuned-mrpc, bert-base-german-dbmdz-cased, bert-base-german-dbmdz-uncased). Assuming 'E:/code/pre_model/pytorch_bert/chinese_roberta_wwm_ext_pytorch/' is a path or url to a directory containing tokenizer files.\n",
      "I0522 23:39:01.028400 16680 tokenization_utils.py:335] Didn't find file E:/code/pre_model/pytorch_bert/chinese_roberta_wwm_ext_pytorch/added_tokens.json. We won't load it.\n",
      "I0522 23:39:01.028400 16680 tokenization_utils.py:335] Didn't find file E:/code/pre_model/pytorch_bert/chinese_roberta_wwm_ext_pytorch/special_tokens_map.json. We won't load it.\n",
      "I0522 23:39:01.029398 16680 tokenization_utils.py:335] Didn't find file E:/code/pre_model/pytorch_bert/chinese_roberta_wwm_ext_pytorch/tokenizer_config.json. We won't load it.\n",
      "I0522 23:39:01.030395 16680 tokenization_utils.py:371] loading file E:/code/pre_model/pytorch_bert/chinese_roberta_wwm_ext_pytorch/vocab.txt\n",
      "I0522 23:39:01.031392 16680 tokenization_utils.py:371] loading file None\n",
      "I0522 23:39:01.031392 16680 tokenization_utils.py:371] loading file None\n",
      "I0522 23:39:01.032390 16680 tokenization_utils.py:371] loading file None\n",
      "I0522 23:39:01.048347 16680 configuration_utils.py:148] loading configuration file E:/code/pre_model/pytorch_bert/chinese_roberta_wwm_ext_pytorch/config.json\n",
      "I0522 23:39:01.049344 16680 configuration_utils.py:168] Model config {\n",
      "  \"attention_probs_dropout_prob\": 0.1,\n",
      "  \"directionality\": \"bidi\",\n",
      "  \"finetuning_task\": null,\n",
      "  \"hidden_act\": \"gelu\",\n",
      "  \"hidden_dropout_prob\": 0.1,\n",
      "  \"hidden_size\": 768,\n",
      "  \"initializer_range\": 0.02,\n",
      "  \"intermediate_size\": 3072,\n",
      "  \"layer_norm_eps\": 1e-12,\n",
      "  \"max_position_embeddings\": 512,\n",
      "  \"num_attention_heads\": 12,\n",
      "  \"num_hidden_layers\": 12,\n",
      "  \"num_labels\": 2,\n",
      "  \"output_attentions\": false,\n",
      "  \"output_hidden_states\": false,\n",
      "  \"output_past\": true,\n",
      "  \"pooler_fc_size\": 768,\n",
      "  \"pooler_num_attention_heads\": 12,\n",
      "  \"pooler_num_fc_layers\": 3,\n",
      "  \"pooler_size_per_head\": 128,\n",
      "  \"pooler_type\": \"first_token_transform\",\n",
      "  \"pruned_heads\": {},\n",
      "  \"torchscript\": false,\n",
      "  \"type_vocab_size\": 2,\n",
      "  \"use_bfloat16\": false,\n",
      "  \"vocab_size\": 21128\n",
      "}\n",
      "\n",
      "I0522 23:39:01.050341 16680 modeling_utils.py:334] loading weights file E:/code/pre_model/pytorch_bert/chinese_roberta_wwm_ext_pytorch/pytorch_model.bin\n"
     ]
    },
    {
     "data": {
      "application/vnd.jupyter.widget-view+json": {
       "model_id": "5ff4aa372b1547f8b6b85e73dbf4f6ed",
       "version_major": 2,
       "version_minor": 0
      },
      "text/plain": [
       "HBox(children=(IntProgress(value=0, max=1000), HTML(value='')))"
      ]
     },
     "metadata": {},
     "output_type": "display_data"
    },
    {
     "name": "stdout",
     "output_type": "stream",
     "text": [
      "\n",
      "- epoch -  1 - train_loss - 0.1025 train_score - 0.866 - val_loss - 0.1248 - val_score - 0.890 - best_loss - 1.000\n",
      "improve save model!!!\n"
     ]
    },
    {
     "data": {
      "application/vnd.jupyter.widget-view+json": {
       "model_id": "9bdffe5ecec34010809e65bd39d01b19",
       "version_major": 2,
       "version_minor": 0
      },
      "text/plain": [
       "HBox(children=(IntProgress(value=0, max=1000), HTML(value='')))"
      ]
     },
     "metadata": {},
     "output_type": "display_data"
    },
    {
     "name": "stdout",
     "output_type": "stream",
     "text": [
      "\n",
      "- epoch -  2 - train_loss - 0.0507 train_score - 0.937 - val_loss - 0.0858 - val_score - 0.912 - best_loss - 0.125\n",
      "improve save model!!!\n"
     ]
    },
    {
     "data": {
      "application/vnd.jupyter.widget-view+json": {
       "model_id": "d6e2cd9d98e24502a0afdcb5ea06358a",
       "version_major": 2,
       "version_minor": 0
      },
      "text/plain": [
       "HBox(children=(IntProgress(value=0, max=1000), HTML(value='')))"
      ]
     },
     "metadata": {},
     "output_type": "display_data"
    },
    {
     "name": "stdout",
     "output_type": "stream",
     "text": [
      "\n",
      "- epoch -  3 - train_loss - 0.0299 train_score - 0.966 - val_loss - 0.1035 - val_score - 0.916 - best_loss - 0.086\n"
     ]
    },
    {
     "data": {
      "application/vnd.jupyter.widget-view+json": {
       "model_id": "350a53e96d1244f3a6d92b6394b69256",
       "version_major": 2,
       "version_minor": 0
      },
      "text/plain": [
       "HBox(children=(IntProgress(value=0, max=1000), HTML(value='')))"
      ]
     },
     "metadata": {},
     "output_type": "display_data"
    },
    {
     "name": "stdout",
     "output_type": "stream",
     "text": [
      "\n",
      "- epoch -  4 - train_loss - 0.0149 train_score - 0.983 - val_loss - 0.1219 - val_score - 0.912 - best_loss - 0.086\n",
      "no improve score !!! stop train !!!\n",
      "1 -----------------------end\n",
      "2 ----------------------start\n",
      "(8000, 2)\n",
      "(2000, 2)\n"
     ]
    },
    {
     "name": "stderr",
     "output_type": "stream",
     "text": [
      "I0522 23:58:32.044326 16680 tokenization_utils.py:306] Model name 'E:/code/pre_model/pytorch_bert/chinese_roberta_wwm_ext_pytorch/' not found in model shortcut name list (bert-base-uncased, bert-large-uncased, bert-base-cased, bert-large-cased, bert-base-multilingual-uncased, bert-base-multilingual-cased, bert-base-chinese, bert-base-german-cased, bert-large-uncased-whole-word-masking, bert-large-cased-whole-word-masking, bert-large-uncased-whole-word-masking-finetuned-squad, bert-large-cased-whole-word-masking-finetuned-squad, bert-base-cased-finetuned-mrpc, bert-base-german-dbmdz-cased, bert-base-german-dbmdz-uncased). Assuming 'E:/code/pre_model/pytorch_bert/chinese_roberta_wwm_ext_pytorch/' is a path or url to a directory containing tokenizer files.\n",
      "I0522 23:58:32.045322 16680 tokenization_utils.py:335] Didn't find file E:/code/pre_model/pytorch_bert/chinese_roberta_wwm_ext_pytorch/added_tokens.json. We won't load it.\n",
      "I0522 23:58:32.045322 16680 tokenization_utils.py:335] Didn't find file E:/code/pre_model/pytorch_bert/chinese_roberta_wwm_ext_pytorch/special_tokens_map.json. We won't load it.\n",
      "I0522 23:58:32.046320 16680 tokenization_utils.py:335] Didn't find file E:/code/pre_model/pytorch_bert/chinese_roberta_wwm_ext_pytorch/tokenizer_config.json. We won't load it.\n",
      "I0522 23:58:32.047317 16680 tokenization_utils.py:371] loading file E:/code/pre_model/pytorch_bert/chinese_roberta_wwm_ext_pytorch/vocab.txt\n",
      "I0522 23:58:32.047317 16680 tokenization_utils.py:371] loading file None\n",
      "I0522 23:58:32.048315 16680 tokenization_utils.py:371] loading file None\n",
      "I0522 23:58:32.048315 16680 tokenization_utils.py:371] loading file None\n",
      "I0522 23:58:32.068262 16680 tokenization_utils.py:306] Model name 'E:/code/pre_model/pytorch_bert/chinese_roberta_wwm_ext_pytorch/' not found in model shortcut name list (bert-base-uncased, bert-large-uncased, bert-base-cased, bert-large-cased, bert-base-multilingual-uncased, bert-base-multilingual-cased, bert-base-chinese, bert-base-german-cased, bert-large-uncased-whole-word-masking, bert-large-cased-whole-word-masking, bert-large-uncased-whole-word-masking-finetuned-squad, bert-large-cased-whole-word-masking-finetuned-squad, bert-base-cased-finetuned-mrpc, bert-base-german-dbmdz-cased, bert-base-german-dbmdz-uncased). Assuming 'E:/code/pre_model/pytorch_bert/chinese_roberta_wwm_ext_pytorch/' is a path or url to a directory containing tokenizer files.\n",
      "I0522 23:58:32.069260 16680 tokenization_utils.py:335] Didn't find file E:/code/pre_model/pytorch_bert/chinese_roberta_wwm_ext_pytorch/added_tokens.json. We won't load it.\n",
      "I0522 23:58:32.070257 16680 tokenization_utils.py:335] Didn't find file E:/code/pre_model/pytorch_bert/chinese_roberta_wwm_ext_pytorch/special_tokens_map.json. We won't load it.\n",
      "I0522 23:58:32.071254 16680 tokenization_utils.py:335] Didn't find file E:/code/pre_model/pytorch_bert/chinese_roberta_wwm_ext_pytorch/tokenizer_config.json. We won't load it.\n",
      "I0522 23:58:32.073248 16680 tokenization_utils.py:371] loading file E:/code/pre_model/pytorch_bert/chinese_roberta_wwm_ext_pytorch/vocab.txt\n",
      "I0522 23:58:32.074246 16680 tokenization_utils.py:371] loading file None\n",
      "I0522 23:58:32.075243 16680 tokenization_utils.py:371] loading file None\n",
      "I0522 23:58:32.075243 16680 tokenization_utils.py:371] loading file None\n",
      "I0522 23:58:32.092198 16680 configuration_utils.py:148] loading configuration file E:/code/pre_model/pytorch_bert/chinese_roberta_wwm_ext_pytorch/config.json\n",
      "I0522 23:58:32.093195 16680 configuration_utils.py:168] Model config {\n",
      "  \"attention_probs_dropout_prob\": 0.1,\n",
      "  \"directionality\": \"bidi\",\n",
      "  \"finetuning_task\": null,\n",
      "  \"hidden_act\": \"gelu\",\n",
      "  \"hidden_dropout_prob\": 0.1,\n",
      "  \"hidden_size\": 768,\n",
      "  \"initializer_range\": 0.02,\n",
      "  \"intermediate_size\": 3072,\n",
      "  \"layer_norm_eps\": 1e-12,\n",
      "  \"max_position_embeddings\": 512,\n",
      "  \"num_attention_heads\": 12,\n",
      "  \"num_hidden_layers\": 12,\n",
      "  \"num_labels\": 2,\n",
      "  \"output_attentions\": false,\n",
      "  \"output_hidden_states\": false,\n",
      "  \"output_past\": true,\n",
      "  \"pooler_fc_size\": 768,\n",
      "  \"pooler_num_attention_heads\": 12,\n",
      "  \"pooler_num_fc_layers\": 3,\n",
      "  \"pooler_size_per_head\": 128,\n",
      "  \"pooler_type\": \"first_token_transform\",\n",
      "  \"pruned_heads\": {},\n",
      "  \"torchscript\": false,\n",
      "  \"type_vocab_size\": 2,\n",
      "  \"use_bfloat16\": false,\n",
      "  \"vocab_size\": 21128\n",
      "}\n",
      "\n",
      "I0522 23:58:32.094222 16680 modeling_utils.py:334] loading weights file E:/code/pre_model/pytorch_bert/chinese_roberta_wwm_ext_pytorch/pytorch_model.bin\n"
     ]
    },
    {
     "data": {
      "application/vnd.jupyter.widget-view+json": {
       "model_id": "cf2d0d34fbfe4a43a30e820625e921c4",
       "version_major": 2,
       "version_minor": 0
      },
      "text/plain": [
       "HBox(children=(IntProgress(value=0, max=1000), HTML(value='')))"
      ]
     },
     "metadata": {},
     "output_type": "display_data"
    },
    {
     "ename": "KeyboardInterrupt",
     "evalue": "",
     "output_type": "error",
     "traceback": [
      "\u001b[1;31m---------------------------------------------------------------------------\u001b[0m",
      "\u001b[1;31mKeyboardInterrupt\u001b[0m                         Traceback (most recent call last)",
      "\u001b[1;32m<ipython-input-11-26118d181157>\u001b[0m in \u001b[0;36m<module>\u001b[1;34m\u001b[0m\n\u001b[0;32m     27\u001b[0m     logss=train_model(model,train_loader,val_loader,early_stop_epochs=early_stop_epochs,\n\u001b[0;32m     28\u001b[0m                       \u001b[0maccumulation_steps\u001b[0m\u001b[1;33m=\u001b[0m\u001b[0maccumulation_steps\u001b[0m\u001b[1;33m,\u001b[0m\u001b[0mepochs\u001b[0m\u001b[1;33m=\u001b[0m\u001b[0mEPOCH\u001b[0m\u001b[1;33m,\u001b[0m\u001b[1;33m\u001b[0m\u001b[1;33m\u001b[0m\u001b[0m\n\u001b[1;32m---> 29\u001b[1;33m                       model_save_path=model_save_path)\n\u001b[0m\u001b[0;32m     30\u001b[0m     \u001b[0mmodel\u001b[0m\u001b[1;33m.\u001b[0m\u001b[0mload_state_dict\u001b[0m\u001b[1;33m(\u001b[0m\u001b[0mtorch\u001b[0m\u001b[1;33m.\u001b[0m\u001b[0mload\u001b[0m\u001b[1;33m(\u001b[0m\u001b[0mmodel_save_path\u001b[0m\u001b[1;33m)\u001b[0m\u001b[1;33m)\u001b[0m\u001b[1;33m\u001b[0m\u001b[1;33m\u001b[0m\u001b[0m\n\u001b[0;32m     31\u001b[0m     \u001b[0mpreds\u001b[0m\u001b[1;33m=\u001b[0m\u001b[0mpredict_model_test\u001b[0m\u001b[1;33m(\u001b[0m\u001b[0mmodel\u001b[0m\u001b[1;33m,\u001b[0m\u001b[0mtest_loader\u001b[0m\u001b[1;33m)\u001b[0m\u001b[1;33m\u001b[0m\u001b[1;33m\u001b[0m\u001b[0m\n",
      "\u001b[1;32m<ipython-input-10-e229b0aab2be>\u001b[0m in \u001b[0;36mtrain_model\u001b[1;34m(model, train_loader, val_loader, early_stop_epochs, accumulation_steps, epochs, model_save_path)\u001b[0m\n\u001b[0;32m     72\u001b[0m         \u001b[0mmodel\u001b[0m\u001b[1;33m.\u001b[0m\u001b[0mtrain\u001b[0m\u001b[1;33m(\u001b[0m\u001b[1;33m)\u001b[0m\u001b[1;33m\u001b[0m\u001b[1;33m\u001b[0m\u001b[0m\n\u001b[0;32m     73\u001b[0m         \u001b[0mbar\u001b[0m \u001b[1;33m=\u001b[0m \u001b[0mtqdm_notebook\u001b[0m\u001b[1;33m(\u001b[0m\u001b[0mtrain_loader\u001b[0m\u001b[1;33m)\u001b[0m\u001b[1;33m\u001b[0m\u001b[1;33m\u001b[0m\u001b[0m\n\u001b[1;32m---> 74\u001b[1;33m         \u001b[1;32mfor\u001b[0m \u001b[0mi\u001b[0m\u001b[1;33m,\u001b[0m\u001b[1;33m(\u001b[0m\u001b[0mids\u001b[0m\u001b[1;33m,\u001b[0m \u001b[0mseg_ids\u001b[0m\u001b[1;33m,\u001b[0m\u001b[0mlabels\u001b[0m\u001b[1;33m)\u001b[0m \u001b[1;32min\u001b[0m \u001b[0menumerate\u001b[0m\u001b[1;33m(\u001b[0m\u001b[0mbar\u001b[0m\u001b[1;33m)\u001b[0m\u001b[1;33m:\u001b[0m\u001b[1;33m\u001b[0m\u001b[1;33m\u001b[0m\u001b[0m\n\u001b[0m\u001b[0;32m     75\u001b[0m             \u001b[0moutputs\u001b[0m \u001b[1;33m=\u001b[0m \u001b[0mmodel\u001b[0m\u001b[1;33m(\u001b[0m\u001b[0mids\u001b[0m\u001b[1;33m.\u001b[0m\u001b[0mcuda\u001b[0m\u001b[1;33m(\u001b[0m\u001b[0mDEVICE\u001b[0m\u001b[1;33m)\u001b[0m\u001b[1;33m,\u001b[0m\u001b[0mseg_ids\u001b[0m\u001b[1;33m.\u001b[0m\u001b[0mcuda\u001b[0m\u001b[1;33m(\u001b[0m\u001b[0mDEVICE\u001b[0m\u001b[1;33m)\u001b[0m\u001b[1;33m)\u001b[0m\u001b[1;33m\u001b[0m\u001b[1;33m\u001b[0m\u001b[0m\n\u001b[0;32m     76\u001b[0m \u001b[1;31m#             print(labels)\u001b[0m\u001b[1;33m\u001b[0m\u001b[1;33m\u001b[0m\u001b[1;33m\u001b[0m\u001b[0m\n",
      "\u001b[1;32mE:\\professional_software\\anaconda\\lib\\site-packages\\tqdm\\_tqdm_notebook.py\u001b[0m in \u001b[0;36m__iter__\u001b[1;34m(self, *args, **kwargs)\u001b[0m\n\u001b[0;32m    221\u001b[0m     \u001b[1;32mdef\u001b[0m \u001b[0m__iter__\u001b[0m\u001b[1;33m(\u001b[0m\u001b[0mself\u001b[0m\u001b[1;33m,\u001b[0m \u001b[1;33m*\u001b[0m\u001b[0margs\u001b[0m\u001b[1;33m,\u001b[0m \u001b[1;33m**\u001b[0m\u001b[0mkwargs\u001b[0m\u001b[1;33m)\u001b[0m\u001b[1;33m:\u001b[0m\u001b[1;33m\u001b[0m\u001b[1;33m\u001b[0m\u001b[0m\n\u001b[0;32m    222\u001b[0m         \u001b[1;32mtry\u001b[0m\u001b[1;33m:\u001b[0m\u001b[1;33m\u001b[0m\u001b[1;33m\u001b[0m\u001b[0m\n\u001b[1;32m--> 223\u001b[1;33m             \u001b[1;32mfor\u001b[0m \u001b[0mobj\u001b[0m \u001b[1;32min\u001b[0m \u001b[0msuper\u001b[0m\u001b[1;33m(\u001b[0m\u001b[0mtqdm_notebook\u001b[0m\u001b[1;33m,\u001b[0m \u001b[0mself\u001b[0m\u001b[1;33m)\u001b[0m\u001b[1;33m.\u001b[0m\u001b[0m__iter__\u001b[0m\u001b[1;33m(\u001b[0m\u001b[1;33m*\u001b[0m\u001b[0margs\u001b[0m\u001b[1;33m,\u001b[0m \u001b[1;33m**\u001b[0m\u001b[0mkwargs\u001b[0m\u001b[1;33m)\u001b[0m\u001b[1;33m:\u001b[0m\u001b[1;33m\u001b[0m\u001b[1;33m\u001b[0m\u001b[0m\n\u001b[0m\u001b[0;32m    224\u001b[0m                 \u001b[1;31m# return super(tqdm...) will not catch exception\u001b[0m\u001b[1;33m\u001b[0m\u001b[1;33m\u001b[0m\u001b[1;33m\u001b[0m\u001b[0m\n\u001b[0;32m    225\u001b[0m                 \u001b[1;32myield\u001b[0m \u001b[0mobj\u001b[0m\u001b[1;33m\u001b[0m\u001b[1;33m\u001b[0m\u001b[0m\n",
      "\u001b[1;32mE:\\professional_software\\anaconda\\lib\\site-packages\\tqdm\\_tqdm.py\u001b[0m in \u001b[0;36m__iter__\u001b[1;34m(self)\u001b[0m\n\u001b[0;32m   1058\u001b[0m                 \"\"\"), fp_write=getattr(self.fp, 'write', sys.stderr.write))\n\u001b[0;32m   1059\u001b[0m \u001b[1;33m\u001b[0m\u001b[0m\n\u001b[1;32m-> 1060\u001b[1;33m             \u001b[1;32mfor\u001b[0m \u001b[0mobj\u001b[0m \u001b[1;32min\u001b[0m \u001b[0miterable\u001b[0m\u001b[1;33m:\u001b[0m\u001b[1;33m\u001b[0m\u001b[1;33m\u001b[0m\u001b[0m\n\u001b[0m\u001b[0;32m   1061\u001b[0m                 \u001b[1;32myield\u001b[0m \u001b[0mobj\u001b[0m\u001b[1;33m\u001b[0m\u001b[1;33m\u001b[0m\u001b[0m\n\u001b[0;32m   1062\u001b[0m                 \u001b[1;31m# Update and possibly print the progressbar.\u001b[0m\u001b[1;33m\u001b[0m\u001b[1;33m\u001b[0m\u001b[1;33m\u001b[0m\u001b[0m\n",
      "\u001b[1;32mE:\\professional_software\\anaconda\\lib\\site-packages\\torch\\utils\\data\\dataloader.py\u001b[0m in \u001b[0;36m__next__\u001b[1;34m(self)\u001b[0m\n\u001b[0;32m    344\u001b[0m     \u001b[1;32mdef\u001b[0m \u001b[0m__next__\u001b[0m\u001b[1;33m(\u001b[0m\u001b[0mself\u001b[0m\u001b[1;33m)\u001b[0m\u001b[1;33m:\u001b[0m\u001b[1;33m\u001b[0m\u001b[1;33m\u001b[0m\u001b[0m\n\u001b[0;32m    345\u001b[0m         \u001b[0mindex\u001b[0m \u001b[1;33m=\u001b[0m \u001b[0mself\u001b[0m\u001b[1;33m.\u001b[0m\u001b[0m_next_index\u001b[0m\u001b[1;33m(\u001b[0m\u001b[1;33m)\u001b[0m  \u001b[1;31m# may raise StopIteration\u001b[0m\u001b[1;33m\u001b[0m\u001b[1;33m\u001b[0m\u001b[0m\n\u001b[1;32m--> 346\u001b[1;33m         \u001b[0mdata\u001b[0m \u001b[1;33m=\u001b[0m \u001b[0mself\u001b[0m\u001b[1;33m.\u001b[0m\u001b[0mdataset_fetcher\u001b[0m\u001b[1;33m.\u001b[0m\u001b[0mfetch\u001b[0m\u001b[1;33m(\u001b[0m\u001b[0mindex\u001b[0m\u001b[1;33m)\u001b[0m  \u001b[1;31m# may raise StopIteration\u001b[0m\u001b[1;33m\u001b[0m\u001b[1;33m\u001b[0m\u001b[0m\n\u001b[0m\u001b[0;32m    347\u001b[0m         \u001b[1;32mif\u001b[0m \u001b[0mself\u001b[0m\u001b[1;33m.\u001b[0m\u001b[0mpin_memory\u001b[0m\u001b[1;33m:\u001b[0m\u001b[1;33m\u001b[0m\u001b[1;33m\u001b[0m\u001b[0m\n\u001b[0;32m    348\u001b[0m             \u001b[0mdata\u001b[0m \u001b[1;33m=\u001b[0m \u001b[0m_utils\u001b[0m\u001b[1;33m.\u001b[0m\u001b[0mpin_memory\u001b[0m\u001b[1;33m.\u001b[0m\u001b[0mpin_memory\u001b[0m\u001b[1;33m(\u001b[0m\u001b[0mdata\u001b[0m\u001b[1;33m)\u001b[0m\u001b[1;33m\u001b[0m\u001b[1;33m\u001b[0m\u001b[0m\n",
      "\u001b[1;32mE:\\professional_software\\anaconda\\lib\\site-packages\\torch\\utils\\data\\_utils\\fetch.py\u001b[0m in \u001b[0;36mfetch\u001b[1;34m(self, possibly_batched_index)\u001b[0m\n\u001b[0;32m     42\u001b[0m     \u001b[1;32mdef\u001b[0m \u001b[0mfetch\u001b[0m\u001b[1;33m(\u001b[0m\u001b[0mself\u001b[0m\u001b[1;33m,\u001b[0m \u001b[0mpossibly_batched_index\u001b[0m\u001b[1;33m)\u001b[0m\u001b[1;33m:\u001b[0m\u001b[1;33m\u001b[0m\u001b[1;33m\u001b[0m\u001b[0m\n\u001b[0;32m     43\u001b[0m         \u001b[1;32mif\u001b[0m \u001b[0mself\u001b[0m\u001b[1;33m.\u001b[0m\u001b[0mauto_collation\u001b[0m\u001b[1;33m:\u001b[0m\u001b[1;33m\u001b[0m\u001b[1;33m\u001b[0m\u001b[0m\n\u001b[1;32m---> 44\u001b[1;33m             \u001b[0mdata\u001b[0m \u001b[1;33m=\u001b[0m \u001b[1;33m[\u001b[0m\u001b[0mself\u001b[0m\u001b[1;33m.\u001b[0m\u001b[0mdataset\u001b[0m\u001b[1;33m[\u001b[0m\u001b[0midx\u001b[0m\u001b[1;33m]\u001b[0m \u001b[1;32mfor\u001b[0m \u001b[0midx\u001b[0m \u001b[1;32min\u001b[0m \u001b[0mpossibly_batched_index\u001b[0m\u001b[1;33m]\u001b[0m\u001b[1;33m\u001b[0m\u001b[1;33m\u001b[0m\u001b[0m\n\u001b[0m\u001b[0;32m     45\u001b[0m         \u001b[1;32melse\u001b[0m\u001b[1;33m:\u001b[0m\u001b[1;33m\u001b[0m\u001b[1;33m\u001b[0m\u001b[0m\n\u001b[0;32m     46\u001b[0m             \u001b[0mdata\u001b[0m \u001b[1;33m=\u001b[0m \u001b[0mself\u001b[0m\u001b[1;33m.\u001b[0m\u001b[0mdataset\u001b[0m\u001b[1;33m[\u001b[0m\u001b[0mpossibly_batched_index\u001b[0m\u001b[1;33m]\u001b[0m\u001b[1;33m\u001b[0m\u001b[1;33m\u001b[0m\u001b[0m\n",
      "\u001b[1;32mE:\\professional_software\\anaconda\\lib\\site-packages\\torch\\utils\\data\\_utils\\fetch.py\u001b[0m in \u001b[0;36m<listcomp>\u001b[1;34m(.0)\u001b[0m\n\u001b[0;32m     42\u001b[0m     \u001b[1;32mdef\u001b[0m \u001b[0mfetch\u001b[0m\u001b[1;33m(\u001b[0m\u001b[0mself\u001b[0m\u001b[1;33m,\u001b[0m \u001b[0mpossibly_batched_index\u001b[0m\u001b[1;33m)\u001b[0m\u001b[1;33m:\u001b[0m\u001b[1;33m\u001b[0m\u001b[1;33m\u001b[0m\u001b[0m\n\u001b[0;32m     43\u001b[0m         \u001b[1;32mif\u001b[0m \u001b[0mself\u001b[0m\u001b[1;33m.\u001b[0m\u001b[0mauto_collation\u001b[0m\u001b[1;33m:\u001b[0m\u001b[1;33m\u001b[0m\u001b[1;33m\u001b[0m\u001b[0m\n\u001b[1;32m---> 44\u001b[1;33m             \u001b[0mdata\u001b[0m \u001b[1;33m=\u001b[0m \u001b[1;33m[\u001b[0m\u001b[0mself\u001b[0m\u001b[1;33m.\u001b[0m\u001b[0mdataset\u001b[0m\u001b[1;33m[\u001b[0m\u001b[0midx\u001b[0m\u001b[1;33m]\u001b[0m \u001b[1;32mfor\u001b[0m \u001b[0midx\u001b[0m \u001b[1;32min\u001b[0m \u001b[0mpossibly_batched_index\u001b[0m\u001b[1;33m]\u001b[0m\u001b[1;33m\u001b[0m\u001b[1;33m\u001b[0m\u001b[0m\n\u001b[0m\u001b[0;32m     45\u001b[0m         \u001b[1;32melse\u001b[0m\u001b[1;33m:\u001b[0m\u001b[1;33m\u001b[0m\u001b[1;33m\u001b[0m\u001b[0m\n\u001b[0;32m     46\u001b[0m             \u001b[0mdata\u001b[0m \u001b[1;33m=\u001b[0m \u001b[0mself\u001b[0m\u001b[1;33m.\u001b[0m\u001b[0mdataset\u001b[0m\u001b[1;33m[\u001b[0m\u001b[0mpossibly_batched_index\u001b[0m\u001b[1;33m]\u001b[0m\u001b[1;33m\u001b[0m\u001b[1;33m\u001b[0m\u001b[0m\n",
      "\u001b[1;32m<ipython-input-5-8fc7f692f729>\u001b[0m in \u001b[0;36m__getitem__\u001b[1;34m(self, index)\u001b[0m\n\u001b[0;32m      9\u001b[0m     \u001b[1;32mdef\u001b[0m \u001b[0m__getitem__\u001b[0m\u001b[1;33m(\u001b[0m\u001b[0mself\u001b[0m\u001b[1;33m,\u001b[0m \u001b[0mindex\u001b[0m\u001b[1;33m)\u001b[0m\u001b[1;33m:\u001b[0m\u001b[1;33m\u001b[0m\u001b[1;33m\u001b[0m\u001b[0m\n\u001b[0;32m     10\u001b[0m         \u001b[0mrow\u001b[0m \u001b[1;33m=\u001b[0m \u001b[0mself\u001b[0m\u001b[1;33m.\u001b[0m\u001b[0mdf\u001b[0m\u001b[1;33m.\u001b[0m\u001b[0miloc\u001b[0m\u001b[1;33m[\u001b[0m\u001b[0mindex\u001b[0m\u001b[1;33m]\u001b[0m\u001b[1;33m\u001b[0m\u001b[1;33m\u001b[0m\u001b[0m\n\u001b[1;32m---> 11\u001b[1;33m         \u001b[0mtoken_ids\u001b[0m\u001b[1;33m,\u001b[0m \u001b[0mseg_ids\u001b[0m \u001b[1;33m=\u001b[0m \u001b[0mself\u001b[0m\u001b[1;33m.\u001b[0m\u001b[0mget_token_ids\u001b[0m\u001b[1;33m(\u001b[0m\u001b[0mrow\u001b[0m\u001b[1;33m)\u001b[0m\u001b[1;33m\u001b[0m\u001b[1;33m\u001b[0m\u001b[0m\n\u001b[0m\u001b[0;32m     12\u001b[0m         \u001b[0mlabels\u001b[0m \u001b[1;33m=\u001b[0m \u001b[0mself\u001b[0m\u001b[1;33m.\u001b[0m\u001b[0mget_label\u001b[0m\u001b[1;33m(\u001b[0m\u001b[0mrow\u001b[0m\u001b[1;33m)\u001b[0m\u001b[1;33m\u001b[0m\u001b[1;33m\u001b[0m\u001b[0m\n\u001b[0;32m     13\u001b[0m         \u001b[1;32mreturn\u001b[0m \u001b[0mtoken_ids\u001b[0m\u001b[1;33m,\u001b[0m\u001b[0mseg_ids\u001b[0m\u001b[1;33m,\u001b[0m\u001b[0mlabels\u001b[0m\u001b[1;33m\u001b[0m\u001b[1;33m\u001b[0m\u001b[0m\n",
      "\u001b[1;32m<ipython-input-5-8fc7f692f729>\u001b[0m in \u001b[0;36mget_token_ids\u001b[1;34m(self, row)\u001b[0m\n\u001b[0;32m     43\u001b[0m         \u001b[0mids\u001b[0m \u001b[1;33m=\u001b[0m \u001b[0mtorch\u001b[0m\u001b[1;33m.\u001b[0m\u001b[0mtensor\u001b[0m\u001b[1;33m(\u001b[0m\u001b[0mtoken_ids\u001b[0m\u001b[1;33m)\u001b[0m\u001b[1;33m[\u001b[0m\u001b[1;33m:\u001b[0m\u001b[0mMAX_LEN\u001b[0m\u001b[1;33m]\u001b[0m\u001b[1;33m\u001b[0m\u001b[1;33m\u001b[0m\u001b[0m\n\u001b[0;32m     44\u001b[0m         \u001b[1;31m#segid\u001b[0m\u001b[1;33m\u001b[0m\u001b[1;33m\u001b[0m\u001b[1;33m\u001b[0m\u001b[0m\n\u001b[1;32m---> 45\u001b[1;33m         \u001b[0mseg_ids\u001b[0m \u001b[1;33m=\u001b[0m \u001b[0mself\u001b[0m\u001b[1;33m.\u001b[0m\u001b[0mget_seg_ids\u001b[0m\u001b[1;33m(\u001b[0m\u001b[0mids\u001b[0m\u001b[1;33m)\u001b[0m\u001b[1;33m\u001b[0m\u001b[1;33m\u001b[0m\u001b[0m\n\u001b[0m\u001b[0;32m     46\u001b[0m \u001b[1;33m\u001b[0m\u001b[0m\n\u001b[0;32m     47\u001b[0m         \u001b[1;32mreturn\u001b[0m \u001b[0mids\u001b[0m\u001b[1;33m,\u001b[0m\u001b[0mseg_ids\u001b[0m\u001b[1;33m\u001b[0m\u001b[1;33m\u001b[0m\u001b[0m\n",
      "\u001b[1;32m<ipython-input-5-8fc7f692f729>\u001b[0m in \u001b[0;36mget_seg_ids\u001b[1;34m(self, ids)\u001b[0m\n\u001b[0;32m     24\u001b[0m         \u001b[1;32mfor\u001b[0m \u001b[0mi\u001b[0m\u001b[1;33m,\u001b[0m \u001b[0me\u001b[0m \u001b[1;32min\u001b[0m \u001b[0menumerate\u001b[0m\u001b[1;33m(\u001b[0m\u001b[0mids\u001b[0m\u001b[1;33m)\u001b[0m\u001b[1;33m:\u001b[0m\u001b[1;33m\u001b[0m\u001b[1;33m\u001b[0m\u001b[0m\n\u001b[0;32m     25\u001b[0m             \u001b[0mseg_ids\u001b[0m\u001b[1;33m[\u001b[0m\u001b[0mi\u001b[0m\u001b[1;33m]\u001b[0m \u001b[1;33m=\u001b[0m \u001b[0mseg_idx\u001b[0m\u001b[1;33m\u001b[0m\u001b[1;33m\u001b[0m\u001b[0m\n\u001b[1;32m---> 26\u001b[1;33m             \u001b[1;32mif\u001b[0m \u001b[0me\u001b[0m \u001b[1;33m==\u001b[0m \u001b[0mSEP_TOKEN_ID\u001b[0m\u001b[1;33m:\u001b[0m\u001b[1;33m\u001b[0m\u001b[1;33m\u001b[0m\u001b[0m\n\u001b[0m\u001b[0;32m     27\u001b[0m                 \u001b[0mseg_idx\u001b[0m \u001b[1;33m+=\u001b[0m \u001b[1;36m1\u001b[0m\u001b[1;33m\u001b[0m\u001b[1;33m\u001b[0m\u001b[0m\n\u001b[0;32m     28\u001b[0m         \u001b[0mmax_idx\u001b[0m \u001b[1;33m=\u001b[0m \u001b[0mtorch\u001b[0m\u001b[1;33m.\u001b[0m\u001b[0mnonzero\u001b[0m\u001b[1;33m(\u001b[0m\u001b[0mseg_ids\u001b[0m \u001b[1;33m==\u001b[0m \u001b[0mseg_idx\u001b[0m\u001b[1;33m)\u001b[0m\u001b[1;33m\u001b[0m\u001b[1;33m\u001b[0m\u001b[0m\n",
      "\u001b[1;31mKeyboardInterrupt\u001b[0m: "
     ]
    }
   ],
   "source": [
    "FOLD=5\n",
    "BATXH_SIZE=8\n",
    "EPOCH=10\n",
    "accumulation_steps=2\n",
    "early_stop_epochs=2\n",
    "netG = EmotionModel().cuda(DEVICE)\n",
    "\n",
    "\n",
    "test_preds=test[['id']]\n",
    "from sklearn.model_selection import KFold\n",
    "kf = KFold(n_splits=FOLD, shuffle=True,random_state=2019)\n",
    "test_loader=get_loader(test,BATXH_SIZE//2,False)\n",
    "sum_preds=np.zeros((len(test),1))\n",
    "for i,(train_index , test_index) in enumerate(kf.split(train,train)):\n",
    "    \n",
    "    print(i+1,'----------------------start')\n",
    "    tra=train.iloc[train_index,:]\n",
    "    val=train.iloc[test_index,:]\n",
    "    \n",
    "    print(tra.shape)\n",
    "    print(val.shape)\n",
    "    train_loader=get_loader(tra,BATXH_SIZE,True)\n",
    "    val_loader=get_loader(val,BATXH_SIZE//2,False)\n",
    "    \n",
    "    model = EmotionModel().cuda(DEVICE)\n",
    "    model_save_path='model_all_QA_{}.pkl'.format(i+1)\n",
    "    logss=train_model(model,train_loader,val_loader,early_stop_epochs=early_stop_epochs,\n",
    "                      accumulation_steps=accumulation_steps,epochs=EPOCH,\n",
    "                      model_save_path=model_save_path)\n",
    "    model.load_state_dict(torch.load(model_save_path))\n",
    "    preds=predict_model_test(model,test_loader)\n",
    "    test_preds.loc[:,'fold_label_{}'.format(i+1)]=(preds>0.5)*1\n",
    "    sum_preds+=preds\n",
    "    print(i+1,'-----------------------end')"
   ]
  },
  {
   "cell_type": "code",
   "execution_count": 12,
   "metadata": {
    "ExecuteTime": {
     "end_time": "2020-05-22T16:00:58.186438Z",
     "start_time": "2020-05-22T16:00:58.156518Z"
    },
    "pycharm": {
     "name": "#%%\n"
    }
   },
   "outputs": [
    {
     "ename": "KeyError",
     "evalue": "\"['fold_label_2'] not in index\"",
     "output_type": "error",
     "traceback": [
      "\u001b[1;31m---------------------------------------------------------------------------\u001b[0m",
      "\u001b[1;31mKeyError\u001b[0m                                  Traceback (most recent call last)",
      "\u001b[1;32m<ipython-input-12-c96be4c90a06>\u001b[0m in \u001b[0;36m<module>\u001b[1;34m\u001b[0m\n\u001b[0;32m      1\u001b[0m \u001b[1;32mfor\u001b[0m \u001b[0mi\u001b[0m \u001b[1;32min\u001b[0m \u001b[0mrange\u001b[0m\u001b[1;33m(\u001b[0m\u001b[0mFOLD\u001b[0m\u001b[1;33m)\u001b[0m\u001b[1;33m:\u001b[0m\u001b[1;33m\u001b[0m\u001b[1;33m\u001b[0m\u001b[0m\n\u001b[1;32m----> 2\u001b[1;33m     \u001b[0msub_i\u001b[0m\u001b[1;33m=\u001b[0m\u001b[0mtest_preds\u001b[0m\u001b[1;33m[\u001b[0m\u001b[1;33m[\u001b[0m\u001b[1;34m'id'\u001b[0m\u001b[1;33m,\u001b[0m\u001b[1;34m'fold_label_{}'\u001b[0m\u001b[1;33m.\u001b[0m\u001b[0mformat\u001b[0m\u001b[1;33m(\u001b[0m\u001b[0mi\u001b[0m\u001b[1;33m+\u001b[0m\u001b[1;36m1\u001b[0m\u001b[1;33m)\u001b[0m\u001b[1;33m]\u001b[0m\u001b[1;33m]\u001b[0m\u001b[1;33m\u001b[0m\u001b[1;33m\u001b[0m\u001b[0m\n\u001b[0m\u001b[0;32m      3\u001b[0m     \u001b[0msub_i\u001b[0m\u001b[1;33m.\u001b[0m\u001b[0mcolumns\u001b[0m\u001b[1;33m=\u001b[0m\u001b[1;33m[\u001b[0m\u001b[1;34m'id'\u001b[0m\u001b[1;33m,\u001b[0m\u001b[1;34m'label'\u001b[0m\u001b[1;33m]\u001b[0m\u001b[1;33m\u001b[0m\u001b[1;33m\u001b[0m\u001b[0m\n\u001b[0;32m      4\u001b[0m     \u001b[0msub_i\u001b[0m\u001b[1;33m.\u001b[0m\u001b[0mto_csv\u001b[0m\u001b[1;33m(\u001b[0m\u001b[1;34m'sub{}.csv'\u001b[0m\u001b[1;33m.\u001b[0m\u001b[0mformat\u001b[0m\u001b[1;33m(\u001b[0m\u001b[0mi\u001b[0m\u001b[1;33m+\u001b[0m\u001b[1;36m1\u001b[0m\u001b[1;33m)\u001b[0m\u001b[1;33m,\u001b[0m\u001b[0mindex\u001b[0m\u001b[1;33m=\u001b[0m\u001b[1;32mFalse\u001b[0m\u001b[1;33m)\u001b[0m\u001b[1;33m\u001b[0m\u001b[1;33m\u001b[0m\u001b[0m\n\u001b[0;32m      5\u001b[0m \u001b[0msum_preds\u001b[0m\u001b[1;33m/=\u001b[0m\u001b[0mFOLD\u001b[0m\u001b[1;33m\u001b[0m\u001b[1;33m\u001b[0m\u001b[0m\n",
      "\u001b[1;32mE:\\professional_software\\anaconda\\lib\\site-packages\\pandas\\core\\frame.py\u001b[0m in \u001b[0;36m__getitem__\u001b[1;34m(self, key)\u001b[0m\n\u001b[0;32m   2932\u001b[0m                 \u001b[0mkey\u001b[0m \u001b[1;33m=\u001b[0m \u001b[0mlist\u001b[0m\u001b[1;33m(\u001b[0m\u001b[0mkey\u001b[0m\u001b[1;33m)\u001b[0m\u001b[1;33m\u001b[0m\u001b[1;33m\u001b[0m\u001b[0m\n\u001b[0;32m   2933\u001b[0m             indexer = self.loc._convert_to_indexer(key, axis=1,\n\u001b[1;32m-> 2934\u001b[1;33m                                                    raise_missing=True)\n\u001b[0m\u001b[0;32m   2935\u001b[0m \u001b[1;33m\u001b[0m\u001b[0m\n\u001b[0;32m   2936\u001b[0m         \u001b[1;31m# take() does not accept boolean indexers\u001b[0m\u001b[1;33m\u001b[0m\u001b[1;33m\u001b[0m\u001b[1;33m\u001b[0m\u001b[0m\n",
      "\u001b[1;32mE:\\professional_software\\anaconda\\lib\\site-packages\\pandas\\core\\indexing.py\u001b[0m in \u001b[0;36m_convert_to_indexer\u001b[1;34m(self, obj, axis, is_setter, raise_missing)\u001b[0m\n\u001b[0;32m   1352\u001b[0m                 kwargs = {'raise_missing': True if is_setter else\n\u001b[0;32m   1353\u001b[0m                           raise_missing}\n\u001b[1;32m-> 1354\u001b[1;33m                 \u001b[1;32mreturn\u001b[0m \u001b[0mself\u001b[0m\u001b[1;33m.\u001b[0m\u001b[0m_get_listlike_indexer\u001b[0m\u001b[1;33m(\u001b[0m\u001b[0mobj\u001b[0m\u001b[1;33m,\u001b[0m \u001b[0maxis\u001b[0m\u001b[1;33m,\u001b[0m \u001b[1;33m**\u001b[0m\u001b[0mkwargs\u001b[0m\u001b[1;33m)\u001b[0m\u001b[1;33m[\u001b[0m\u001b[1;36m1\u001b[0m\u001b[1;33m]\u001b[0m\u001b[1;33m\u001b[0m\u001b[1;33m\u001b[0m\u001b[0m\n\u001b[0m\u001b[0;32m   1355\u001b[0m         \u001b[1;32melse\u001b[0m\u001b[1;33m:\u001b[0m\u001b[1;33m\u001b[0m\u001b[1;33m\u001b[0m\u001b[0m\n\u001b[0;32m   1356\u001b[0m             \u001b[1;32mtry\u001b[0m\u001b[1;33m:\u001b[0m\u001b[1;33m\u001b[0m\u001b[1;33m\u001b[0m\u001b[0m\n",
      "\u001b[1;32mE:\\professional_software\\anaconda\\lib\\site-packages\\pandas\\core\\indexing.py\u001b[0m in \u001b[0;36m_get_listlike_indexer\u001b[1;34m(self, key, axis, raise_missing)\u001b[0m\n\u001b[0;32m   1159\u001b[0m         self._validate_read_indexer(keyarr, indexer,\n\u001b[0;32m   1160\u001b[0m                                     \u001b[0mo\u001b[0m\u001b[1;33m.\u001b[0m\u001b[0m_get_axis_number\u001b[0m\u001b[1;33m(\u001b[0m\u001b[0maxis\u001b[0m\u001b[1;33m)\u001b[0m\u001b[1;33m,\u001b[0m\u001b[1;33m\u001b[0m\u001b[1;33m\u001b[0m\u001b[0m\n\u001b[1;32m-> 1161\u001b[1;33m                                     raise_missing=raise_missing)\n\u001b[0m\u001b[0;32m   1162\u001b[0m         \u001b[1;32mreturn\u001b[0m \u001b[0mkeyarr\u001b[0m\u001b[1;33m,\u001b[0m \u001b[0mindexer\u001b[0m\u001b[1;33m\u001b[0m\u001b[1;33m\u001b[0m\u001b[0m\n\u001b[0;32m   1163\u001b[0m \u001b[1;33m\u001b[0m\u001b[0m\n",
      "\u001b[1;32mE:\\professional_software\\anaconda\\lib\\site-packages\\pandas\\core\\indexing.py\u001b[0m in \u001b[0;36m_validate_read_indexer\u001b[1;34m(self, key, indexer, axis, raise_missing)\u001b[0m\n\u001b[0;32m   1250\u001b[0m             \u001b[1;32mif\u001b[0m \u001b[1;32mnot\u001b[0m\u001b[1;33m(\u001b[0m\u001b[0mself\u001b[0m\u001b[1;33m.\u001b[0m\u001b[0mname\u001b[0m \u001b[1;33m==\u001b[0m \u001b[1;34m'loc'\u001b[0m \u001b[1;32mand\u001b[0m \u001b[1;32mnot\u001b[0m \u001b[0mraise_missing\u001b[0m\u001b[1;33m)\u001b[0m\u001b[1;33m:\u001b[0m\u001b[1;33m\u001b[0m\u001b[1;33m\u001b[0m\u001b[0m\n\u001b[0;32m   1251\u001b[0m                 \u001b[0mnot_found\u001b[0m \u001b[1;33m=\u001b[0m \u001b[0mlist\u001b[0m\u001b[1;33m(\u001b[0m\u001b[0mset\u001b[0m\u001b[1;33m(\u001b[0m\u001b[0mkey\u001b[0m\u001b[1;33m)\u001b[0m \u001b[1;33m-\u001b[0m \u001b[0mset\u001b[0m\u001b[1;33m(\u001b[0m\u001b[0max\u001b[0m\u001b[1;33m)\u001b[0m\u001b[1;33m)\u001b[0m\u001b[1;33m\u001b[0m\u001b[1;33m\u001b[0m\u001b[0m\n\u001b[1;32m-> 1252\u001b[1;33m                 \u001b[1;32mraise\u001b[0m \u001b[0mKeyError\u001b[0m\u001b[1;33m(\u001b[0m\u001b[1;34m\"{} not in index\"\u001b[0m\u001b[1;33m.\u001b[0m\u001b[0mformat\u001b[0m\u001b[1;33m(\u001b[0m\u001b[0mnot_found\u001b[0m\u001b[1;33m)\u001b[0m\u001b[1;33m)\u001b[0m\u001b[1;33m\u001b[0m\u001b[1;33m\u001b[0m\u001b[0m\n\u001b[0m\u001b[0;32m   1253\u001b[0m \u001b[1;33m\u001b[0m\u001b[0m\n\u001b[0;32m   1254\u001b[0m             \u001b[1;31m# we skip the warning on Categorical/Interval\u001b[0m\u001b[1;33m\u001b[0m\u001b[1;33m\u001b[0m\u001b[1;33m\u001b[0m\u001b[0m\n",
      "\u001b[1;31mKeyError\u001b[0m: \"['fold_label_2'] not in index\""
     ]
    }
   ],
   "source": [
    "for i in range(FOLD):\n",
    "    sub_i=test_preds[['id','fold_label_{}'.format(i+1)]]\n",
    "    sub_i.columns=['id','label']\n",
    "    sub_i.to_csv('sub{}.csv'.format(i+1),index=False)\n",
    "sum_preds/=FOLD\n",
    "test_preds['label']=(sum_preds>0.5)*1\n",
    "test_preds[['id','label']].to_csv('sub_mean',index=False)"
   ]
  },
  {
   "cell_type": "code",
   "execution_count": null,
   "metadata": {
    "pycharm": {
     "name": "#%%\n"
    }
   },
   "outputs": [],
   "source": []
  }
 ],
 "metadata": {
  "kernelspec": {
   "display_name": "Python 3",
   "language": "python",
   "name": "python3"
  },
  "language_info": {
   "codemirror_mode": {
    "name": "ipython",
    "version": 3
   },
   "file_extension": ".py",
   "mimetype": "text/x-python",
   "name": "python",
   "nbconvert_exporter": "python",
   "pygments_lexer": "ipython3",
   "version": "3.7.2"
  },
  "toc": {
   "base_numbering": 1,
   "nav_menu": {},
   "number_sections": true,
   "sideBar": true,
   "skip_h1_title": false,
   "title_cell": "Table of Contents",
   "title_sidebar": "Contents",
   "toc_cell": false,
   "toc_position": {},
   "toc_section_display": true,
   "toc_window_display": false
  }
 },
 "nbformat": 4,
 "nbformat_minor": 2
}
